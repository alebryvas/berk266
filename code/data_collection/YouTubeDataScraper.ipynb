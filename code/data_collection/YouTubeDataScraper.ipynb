{
 "cells": [
  {
   "cell_type": "code",
   "execution_count": 14,
   "metadata": {},
   "outputs": [],
   "source": [
    "#  -*- coding: utf-8 -*-\n",
    "import requests\n",
    "import csv\n",
    "import json\n",
    "import pandas as pd\n",
    "import numpy as np\n",
    "from youtube_transcript_api import YouTubeTranscriptApi"
   ]
  },
  {
   "cell_type": "code",
   "execution_count": 54,
   "metadata": {},
   "outputs": [],
   "source": [
    "key = \"\" # - youtube key\n",
    "\n"
   ]
  },
  {
   "cell_type": "code",
   "execution_count": 68,
   "metadata": {},
   "outputs": [],
   "source": [
    "# YouTube limits this to be 1 to 50\n",
    "num_results = \"50\"\n",
    "title=['Title']\n",
    "description=['Description']\n",
    "publish_time=['Time Published']\n",
    "channel_title=['Channel Title']\n",
    "video_id=['Video ID']\n",
    "summary=['Summary']\n",
    "tags=['Tags']\n",
    "duration=['Duration']\n",
    "viewCount=['ViewCount']\n",
    "likeCount=['LikeCount']\n",
    "dislikeCount=['DislikeCount']\n",
    "commentCount=['CommentCount']\n",
    "\n"
   ]
  },
  {
   "cell_type": "code",
   "execution_count": 69,
   "metadata": {},
   "outputs": [
    {
     "name": "stdout",
     "output_type": "stream",
     "text": [
      "total length 78\n"
     ]
    }
   ],
   "source": [
    "df = pd.read_csv(\"C:/Users/vramani/Desktop/temp/youtube/file1.csv\", header=None)\n",
    "df.head()\n",
    "print('total length', len(df[0]))\n",
    "vids = df[0]"
   ]
  },
  {
   "cell_type": "code",
   "execution_count": 70,
   "metadata": {},
   "outputs": [
    {
     "name": "stdout",
     "output_type": "stream",
     "text": [
      "1\n",
      "{'kind': 'youtube#videoListResponse', 'etag': '\"SJZWTG6xR0eGuCOh2bX6w3s4F94/e0GwnzFFJUCo5yuG3P_9lklSKao\"', 'pageInfo': {'totalResults': 1, 'resultsPerPage': 1}, 'items': [{'kind': 'youtube#video', 'etag': '\"SJZWTG6xR0eGuCOh2bX6w3s4F94/eLcdk3QGHiWkMkt10K65OpVKqPc\"', 'id': 'kQyYfhG_-6Q', 'snippet': {'publishedAt': '2008-09-08T20:12:49.000Z', 'channelId': 'UCQlGBspQdj17WOPBQMT1k9A', 'title': 'Aikido Basic Techniques : Katate Tori Hantai Ikkyo', 'description': 'A foundation Aikido technique Katate Tori Hantai Ikkyo is extremely important for the martial artist. Learn how to correctly execute this powerful technique in this free video.\\n\\nExpert: Gary Boaz\\nBio: Gary Boaz has been training in Aikido for 17 years, he is a 4th degree black belt under Fred Mastision Sensei of Aikido of Phoenix. Gary teaches Aikido, Kyusho-Jitsu, Brazilian Jiu-Jitsu.\\nFilmmaker: Dustin Daniels', 'thumbnails': {'default': {'url': 'https://i.ytimg.com/vi/kQyYfhG_-6Q/default.jpg', 'width': 120, 'height': 90}, 'medium': {'url': 'https://i.ytimg.com/vi/kQyYfhG_-6Q/mqdefault.jpg', 'width': 320, 'height': 180}, 'high': {'url': 'https://i.ytimg.com/vi/kQyYfhG_-6Q/hqdefault.jpg', 'width': 480, 'height': 360}}, 'channelTitle': 'expertvillage', 'tags': ['martial', 'arts', 'aikido', 'self', 'defense', 'fighting', 'how', 'to', 'video', 'free', 'Expert', 'Village'], 'categoryId': '17', 'liveBroadcastContent': 'none', 'localized': {'title': 'Aikido Basic Techniques : Katate Tori Hantai Ikkyo', 'description': 'A foundation Aikido technique Katate Tori Hantai Ikkyo is extremely important for the martial artist. Learn how to correctly execute this powerful technique in this free video.\\n\\nExpert: Gary Boaz\\nBio: Gary Boaz has been training in Aikido for 17 years, he is a 4th degree black belt under Fred Mastision Sensei of Aikido of Phoenix. Gary teaches Aikido, Kyusho-Jitsu, Brazilian Jiu-Jitsu.\\nFilmmaker: Dustin Daniels'}}, 'contentDetails': {'duration': 'PT1M57S', 'dimension': '2d', 'definition': 'sd', 'caption': 'true', 'licensedContent': True, 'projection': 'rectangular'}, 'statistics': {'viewCount': '141715', 'likeCount': '312', 'dislikeCount': '19', 'favoriteCount': '0', 'commentCount': '20'}}]}\n"
     ]
    }
   ],
   "source": [
    "for vid in vids:\n",
    "    try:\n",
    "        URL = \"https://www.googleapis.com/youtube/v3/videos?part=snippet%2CcontentDetails%2Cstatistics&id=\" + vid +\"&key=\" + key\n",
    "        response = requests.get(URL, headers={'User-Agent': 'GoogleChrome'})\n",
    "    except BaseException as e:\n",
    "        print(e.message)\n",
    "    print(response.json())\n",
    "    if response.json()['items'] is not None and len(response.json()['items']) != 0:\n",
    "        try:\n",
    "            curtag = response.json()['items'][0]['snippet'].get('tags')\n",
    "            tags.append(curtag)\n",
    "        except:\n",
    "            tags.append('')\n",
    "        try:\n",
    "            transcript = YouTubeTranscriptApi.get_transcript(vid)\n",
    "            summary.append(transcript)\n",
    "        except:\n",
    "            summary.append('')\n",
    "        title.append(response.json()['items'][0]['snippet'].get('title'))\n",
    "        description.append(response.json()['items'][0]['snippet'].get('description'))\n",
    "        publish_time.append(response.json()['items'][0]['snippet'].get('publishedAt'))\n",
    "        channel_title.append(response.json()['items'][0]['snippet'].get('channelTitle'))\n",
    "        try:\n",
    "            duration.append(response.json()['items'][0]['contentDetails'].get('duration'))\n",
    "        except:\n",
    "            duration.append('')\n",
    "        viewCount.append(response.json()['items'][0]['statistics'].get('viewCount'))\n",
    "        likeCount.append(response.json()['items'][0]['statistics'].get('likeCount'))\n",
    "        dislikeCount.append(response.json()['items'][0]['statistics'].get('dislikeCount'))\n",
    "        commentCount.append(response.json()['items'][0]['statistics'].get('commentCount'))\n",
    "    else:\n",
    "        title.append('')\n",
    "        description.append('')\n",
    "        publish_time.append('')\n",
    "        channel_title.append('')\n",
    "        tags.append('')\n",
    "        duration.append('')\n",
    "        viewCount.append('')\n",
    "        likeCount.append('')\n",
    "        dislikeCount.append('')\n",
    "        commentCount.append('') "
   ]
  },
  {
   "cell_type": "code",
   "execution_count": 71,
   "metadata": {},
   "outputs": [],
   "source": [
    "video_id = video_id +np.array(vids).tolist()"
   ]
  },
  {
   "cell_type": "code",
   "execution_count": 72,
   "metadata": {},
   "outputs": [
    {
     "name": "stdout",
     "output_type": "stream",
     "text": [
      "2\n",
      "2\n",
      "2\n",
      "2\n",
      "2\n",
      "2\n",
      "2\n",
      "2\n",
      "2\n",
      "2\n",
      "2\n"
     ]
    }
   ],
   "source": [
    "print(len(title))\n",
    "print(len(description))\n",
    "print(len(publish_time))\n",
    "print(len(channel_title))\n",
    "print(len(video_id))\n",
    "#print(len(summary))\n",
    "print(len(tags))\n",
    "print(len(duration))\n",
    "print(len(viewCount))\n",
    "print(len(likeCount))\n",
    "print(len(dislikeCount))\n",
    "print(len(commentCount))"
   ]
  },
  {
   "cell_type": "code",
   "execution_count": 73,
   "metadata": {},
   "outputs": [],
   "source": [
    "#video_id = video_id[:1274]\n",
    "data=[title, description, publish_time, channel_title, video_id, summary, tags, duration,viewCount, likeCount, dislikeCount,commentCount]\n",
    "data = zip(*data)\n",
    "with open('metadata_train.csv', 'w', newline='') as csvfile:\n",
    "    youtube = csv.writer(csvfile, delimiter=',', quoting=csv.QUOTE_MINIMAL)\n",
    "    for info in data:\n",
    "        try:\n",
    "            youtube.writerow(info) \n",
    "        except:\n",
    "            print(\"---------------------------\")"
   ]
  },
  {
   "cell_type": "code",
   "execution_count": null,
   "metadata": {},
   "outputs": [],
   "source": []
  }
 ],
 "metadata": {
  "kernelspec": {
   "display_name": "Python 3",
   "language": "python",
   "name": "python3"
  },
  "language_info": {
   "codemirror_mode": {
    "name": "ipython",
    "version": 3
   },
   "file_extension": ".py",
   "mimetype": "text/x-python",
   "name": "python",
   "nbconvert_exporter": "python",
   "pygments_lexer": "ipython3",
   "version": "3.7.4"
  }
 },
 "nbformat": 4,
 "nbformat_minor": 2
}
